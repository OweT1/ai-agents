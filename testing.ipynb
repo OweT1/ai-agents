{
 "cells": [
  {
   "cell_type": "code",
   "execution_count": 1,
   "id": "3ca71bd4",
   "metadata": {},
   "outputs": [
    {
     "name": "stdout",
     "output_type": "stream",
     "text": [
      "Note: you may need to restart the kernel to use updated packages.\n"
     ]
    },
    {
     "name": "stderr",
     "output_type": "stream",
     "text": [
      "\n",
      "[notice] A new release of pip is available: 24.3.1 -> 25.1.1\n",
      "[notice] To update, run: python.exe -m pip install --upgrade pip\n"
     ]
    }
   ],
   "source": [
    "%pip -q install -r requirements.txt"
   ]
  },
  {
   "cell_type": "code",
   "execution_count": 2,
   "id": "2c0d4053",
   "metadata": {},
   "outputs": [],
   "source": [
    "from utils.utils import get_mistral_model\n",
    "\n",
    "model = get_mistral_model()"
   ]
  },
  {
   "cell_type": "code",
   "execution_count": 3,
   "id": "db60fa68",
   "metadata": {},
   "outputs": [],
   "source": [
    "# # Testing API key - Should work and generate output\n",
    "\n",
    "# from langgraph.prebuilt import create_react_agent\n",
    "\n",
    "# def add(a, b):\n",
    "#   \"\"\"Adds two numbers\"\"\"\n",
    "#   return a + b\n",
    "\n",
    "# def multiply(a, b):\n",
    "#   \"\"\"Multiplies two numbers\"\"\"\n",
    "#   return a * b\n",
    "\n",
    "# math_agent = create_react_agent(\n",
    "#   model=model,\n",
    "#   tools=[add, multiply],\n",
    "#   name=\"math_expert\",\n",
    "#   prompt=\"You are a math expert. Always use one tool at a time.\"\n",
    "# )\n",
    "\n",
    "# math_agent.invoke(\n",
    "#   {\"messages\": [{\"role\": \"user\", \"content\": \"What is 3 + 4?\"}] \n",
    "# })"
   ]
  },
  {
   "cell_type": "markdown",
   "id": "43ba77a6",
   "metadata": {},
   "source": [
    "# Possible Use case 1: Resume and Job matching\n",
    "Based on the details of a resume and the description of a job, we will try to use agents to determine whether the resume and the job description are a match through a Multi-Agent Supervisor architecture.\n",
    "\n",
    "A few things to consider:\n",
    "- Candidate's profile align with company's industry/values\n",
    "- Candidate's skills align with job's preferred qualifications\n",
    "- Candidate's projects and experiences align with job's responsibilities"
   ]
  },
  {
   "cell_type": "code",
   "execution_count": 4,
   "id": "471e2a41",
   "metadata": {},
   "outputs": [],
   "source": [
    "from utils.agents import get_custom_agent\n",
    "\n",
    "candidate_details = \"x\"\n",
    "company = \"x\"\n",
    "job_details = \"x\"\n",
    "\n",
    "experience_agent = get_custom_agent(\n",
    "  model=model,\n",
    "  agent_type=\"experience\",\n",
    "  candidate_details=candidate_details,\n",
    "  company=company,\n",
    "  job_details=job_details\n",
    ")\n",
    "\n",
    "profile_agent = get_custom_agent(\n",
    "  model=model,\n",
    "  agent_type=\"profile\",\n",
    "  candidate_details=candidate_details,\n",
    "  company=company,\n",
    "  job_details=job_details\n",
    ")\n",
    "\n",
    "skills_agent = get_custom_agent(\n",
    "  model=model,\n",
    "  agent_type=\"skills\",\n",
    "  candidate_details=candidate_details,\n",
    "  company=company,\n",
    "  job_details=job_details\n",
    ")\n",
    "\n",
    "supervisor_agent = get_custom_agent(\n",
    "  model=model,\n",
    "  agent_type=\"supervisor\",\n",
    "  candidate_details=candidate_details,\n",
    "  company=company,\n",
    "  job_details=job_details,\n",
    "  agents=[experience_agent, profile_agent, skills_agent]\n",
    ")"
   ]
  }
 ],
 "metadata": {
  "kernelspec": {
   "display_name": "Python 3",
   "language": "python",
   "name": "python3"
  },
  "language_info": {
   "codemirror_mode": {
    "name": "ipython",
    "version": 3
   },
   "file_extension": ".py",
   "mimetype": "text/x-python",
   "name": "python",
   "nbconvert_exporter": "python",
   "pygments_lexer": "ipython3",
   "version": "3.10.6"
  }
 },
 "nbformat": 4,
 "nbformat_minor": 5
}
