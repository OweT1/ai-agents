{
 "cells": [
  {
   "cell_type": "code",
   "execution_count": 1,
   "id": "3ca71bd4",
   "metadata": {},
   "outputs": [
    {
     "name": "stdout",
     "output_type": "stream",
     "text": [
      "Note: you may need to restart the kernel to use updated packages.\n"
     ]
    },
    {
     "name": "stderr",
     "output_type": "stream",
     "text": [
      "\n",
      "[notice] A new release of pip is available: 24.3.1 -> 25.1.1\n",
      "[notice] To update, run: python.exe -m pip install --upgrade pip\n"
     ]
    }
   ],
   "source": [
    "%pip -q install -r requirements.txt"
   ]
  },
  {
   "cell_type": "code",
   "execution_count": 2,
   "id": "2c0d4053",
   "metadata": {},
   "outputs": [],
   "source": [
    "from models import get_mistral_model\n",
    "\n",
    "model = get_mistral_model()"
   ]
  },
  {
   "cell_type": "code",
   "execution_count": null,
   "id": "db60fa68",
   "metadata": {},
   "outputs": [
    {
     "data": {
      "text/plain": [
       "{'messages': [HumanMessage(content='What is 3 + 4?', additional_kwargs={}, response_metadata={}, id='b6b8a85b-ea76-4143-a489-610ba84b5f51'),\n",
       "  AIMessage(content='', additional_kwargs={'tool_calls': [{'id': '9bLbKdOne', 'function': {'name': 'add', 'arguments': '{\"a\": 3, \"b\": 4}'}, 'index': 0}]}, response_metadata={'token_usage': {'prompt_tokens': 141, 'total_tokens': 166, 'completion_tokens': 25}, 'model_name': 'mistral-small-latest', 'model': 'mistral-small-latest', 'finish_reason': 'tool_calls'}, name='math_expert', id='run--779e1bac-9f0f-4d77-b761-239965ebb608-0', tool_calls=[{'name': 'add', 'args': {'a': 3, 'b': 4}, 'id': '9bLbKdOne', 'type': 'tool_call'}], usage_metadata={'input_tokens': 141, 'output_tokens': 25, 'total_tokens': 166}),\n",
       "  ToolMessage(content='7', name='add', id='2dbbf651-f6aa-4bce-881c-e31657695e2a', tool_call_id='9bLbKdOne'),\n",
       "  AIMessage(content='The sum of 3 and 4 is 7.', additional_kwargs={}, response_metadata={'token_usage': {'prompt_tokens': 189, 'total_tokens': 202, 'completion_tokens': 13}, 'model_name': 'mistral-small-latest', 'model': 'mistral-small-latest', 'finish_reason': 'stop'}, name='math_expert', id='run--9b3a5e6c-e709-4c26-989c-283aef5ecf51-0', usage_metadata={'input_tokens': 189, 'output_tokens': 13, 'total_tokens': 202})]}"
      ]
     },
     "execution_count": 4,
     "metadata": {},
     "output_type": "execute_result"
    }
   ],
   "source": [
    "# Testing API key - Should work and generate output\n",
    "\n",
    "from langgraph.prebuilt import create_react_agent\n",
    "\n",
    "def add(a, b):\n",
    "  \"\"\"Adds two numbers\"\"\"\n",
    "  return a + b\n",
    "\n",
    "def multiply(a, b):\n",
    "  \"\"\"Multiplies two numbers\"\"\"\n",
    "  return a * b\n",
    "\n",
    "math_agent = create_react_agent(\n",
    "  model=model,\n",
    "  tools=[add, multiply],\n",
    "  name=\"math_expert\",\n",
    "  prompt=\"You are a math expert. Always use one tool at a time.\"\n",
    ")\n",
    "\n",
    "math_agent.invoke(\n",
    "  {\"messages\": [{\"role\": \"user\", \"content\": \"What is 3 + 4?\"}] \n",
    "})"
   ]
  },
  {
   "cell_type": "markdown",
   "id": "43ba77a6",
   "metadata": {},
   "source": [
    "# Possible Use case 1: Resume and Job matching\n",
    "Based on the details of a resume and the description of a job, we will try to use agents to determine whether the resume and the job description are a match through a Multi-Agent Supervisor architecture.\n",
    "\n",
    "A few things to consider:\n",
    "- Candidate's profile align with company's industry/values\n",
    "- Candidate's skills align with job's preferred qualifications\n",
    "- Candidate's projects and experiences align with job's responsibilities"
   ]
  },
  {
   "cell_type": "code",
   "execution_count": null,
   "id": "471e2a41",
   "metadata": {},
   "outputs": [],
   "source": [
    "from langgraph.prebuilt import create_react_agent, create_supervisor\n",
    "from prompts.prompts import get_agent_prompt\n",
    "\n",
    "profile_agent = create_react_agent(\n",
    "  model=model,\n",
    "  name=\"profile_agent\",\n",
    "  prompt=\"\"\n",
    ")"
   ]
  }
 ],
 "metadata": {
  "kernelspec": {
   "display_name": "Python 3",
   "language": "python",
   "name": "python3"
  },
  "language_info": {
   "codemirror_mode": {
    "name": "ipython",
    "version": 3
   },
   "file_extension": ".py",
   "mimetype": "text/x-python",
   "name": "python",
   "nbconvert_exporter": "python",
   "pygments_lexer": "ipython3",
   "version": "3.10.6"
  }
 },
 "nbformat": 4,
 "nbformat_minor": 5
}
