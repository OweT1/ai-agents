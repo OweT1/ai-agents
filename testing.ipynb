{
 "cells": [
  {
   "cell_type": "code",
   "execution_count": 1,
   "id": "3ca71bd4",
   "metadata": {},
   "outputs": [
    {
     "name": "stdout",
     "output_type": "stream",
     "text": [
      "Requirement already satisfied: typing_extensions==4.11.0 in c:\\users\\owent\\appdata\\local\\programs\\python\\python310\\lib\\site-packages (from -r requirements.txt (line 1)) (4.11.0)\n",
      "Requirement already satisfied: langchain in c:\\users\\owent\\appdata\\local\\programs\\python\\python310\\lib\\site-packages (from -r requirements.txt (line 2)) (0.3.19)\n",
      "Requirement already satisfied: langchain-anthropic in c:\\users\\owent\\appdata\\local\\programs\\python\\python310\\lib\\site-packages (from -r requirements.txt (line 3)) (0.3.13)\n",
      "Requirement already satisfied: langgraph in c:\\users\\owent\\appdata\\local\\programs\\python\\python310\\lib\\site-packages (from -r requirements.txt (line 4)) (0.4.5)\n",
      "Requirement already satisfied: langchain-core<1.0.0,>=0.3.35 in c:\\users\\owent\\appdata\\local\\programs\\python\\python310\\lib\\site-packages (from langchain->-r requirements.txt (line 2)) (0.3.60)\n",
      "Requirement already satisfied: langchain-text-splitters<1.0.0,>=0.3.6 in c:\\users\\owent\\appdata\\local\\programs\\python\\python310\\lib\\site-packages (from langchain->-r requirements.txt (line 2)) (0.3.6)\n",
      "Requirement already satisfied: langsmith<0.4,>=0.1.17 in c:\\users\\owent\\appdata\\local\\programs\\python\\python310\\lib\\site-packages (from langchain->-r requirements.txt (line 2)) (0.3.8)\n",
      "Requirement already satisfied: pydantic<3.0.0,>=2.7.4 in c:\\users\\owent\\appdata\\local\\programs\\python\\python310\\lib\\site-packages (from langchain->-r requirements.txt (line 2)) (2.9.1)\n",
      "Requirement already satisfied: SQLAlchemy<3,>=1.4 in c:\\users\\owent\\appdata\\local\\programs\\python\\python310\\lib\\site-packages (from langchain->-r requirements.txt (line 2)) (2.0.38)\n",
      "Requirement already satisfied: requests<3,>=2 in c:\\users\\owent\\appdata\\local\\programs\\python\\python310\\lib\\site-packages (from langchain->-r requirements.txt (line 2)) (2.32.3)\n",
      "Requirement already satisfied: PyYAML>=5.3 in c:\\users\\owent\\appdata\\local\\programs\\python\\python310\\lib\\site-packages (from langchain->-r requirements.txt (line 2)) (6.0.2)\n",
      "Requirement already satisfied: aiohttp<4.0.0,>=3.8.3 in c:\\users\\owent\\appdata\\local\\programs\\python\\python310\\lib\\site-packages (from langchain->-r requirements.txt (line 2)) (3.11.12)\n",
      "Requirement already satisfied: tenacity!=8.4.0,<10,>=8.1.0 in c:\\users\\owent\\appdata\\local\\programs\\python\\python310\\lib\\site-packages (from langchain->-r requirements.txt (line 2)) (8.5.0)\n",
      "Requirement already satisfied: numpy<2,>=1.26.4 in c:\\users\\owent\\appdata\\local\\programs\\python\\python310\\lib\\site-packages (from langchain->-r requirements.txt (line 2)) (1.26.4)\n",
      "Requirement already satisfied: async-timeout<5.0.0,>=4.0.0 in c:\\users\\owent\\appdata\\local\\programs\\python\\python310\\lib\\site-packages (from langchain->-r requirements.txt (line 2)) (4.0.3)\n",
      "Requirement already satisfied: anthropic<1,>=0.51.0 in c:\\users\\owent\\appdata\\local\\programs\\python\\python310\\lib\\site-packages (from langchain-anthropic->-r requirements.txt (line 3)) (0.51.0)\n",
      "Requirement already satisfied: langgraph-checkpoint<3.0.0,>=2.0.26 in c:\\users\\owent\\appdata\\local\\programs\\python\\python310\\lib\\site-packages (from langgraph->-r requirements.txt (line 4)) (2.0.26)\n",
      "Requirement already satisfied: langgraph-prebuilt>=0.1.8 in c:\\users\\owent\\appdata\\local\\programs\\python\\python310\\lib\\site-packages (from langgraph->-r requirements.txt (line 4)) (0.1.8)\n",
      "Requirement already satisfied: langgraph-sdk>=0.1.42 in c:\\users\\owent\\appdata\\local\\programs\\python\\python310\\lib\\site-packages (from langgraph->-r requirements.txt (line 4)) (0.1.69)\n",
      "Requirement already satisfied: xxhash<4.0.0,>=3.5.0 in c:\\users\\owent\\appdata\\local\\programs\\python\\python310\\lib\\site-packages (from langgraph->-r requirements.txt (line 4)) (3.5.0)\n",
      "Requirement already satisfied: aiohappyeyeballs>=2.3.0 in c:\\users\\owent\\appdata\\local\\programs\\python\\python310\\lib\\site-packages (from aiohttp<4.0.0,>=3.8.3->langchain->-r requirements.txt (line 2)) (2.4.6)\n",
      "Requirement already satisfied: aiosignal>=1.1.2 in c:\\users\\owent\\appdata\\local\\programs\\python\\python310\\lib\\site-packages (from aiohttp<4.0.0,>=3.8.3->langchain->-r requirements.txt (line 2)) (1.3.2)\n",
      "Requirement already satisfied: attrs>=17.3.0 in c:\\users\\owent\\appdata\\local\\programs\\python\\python310\\lib\\site-packages (from aiohttp<4.0.0,>=3.8.3->langchain->-r requirements.txt (line 2)) (23.2.0)\n",
      "Requirement already satisfied: frozenlist>=1.1.1 in c:\\users\\owent\\appdata\\local\\programs\\python\\python310\\lib\\site-packages (from aiohttp<4.0.0,>=3.8.3->langchain->-r requirements.txt (line 2)) (1.5.0)\n",
      "Requirement already satisfied: multidict<7.0,>=4.5 in c:\\users\\owent\\appdata\\local\\programs\\python\\python310\\lib\\site-packages (from aiohttp<4.0.0,>=3.8.3->langchain->-r requirements.txt (line 2)) (6.1.0)\n",
      "Requirement already satisfied: propcache>=0.2.0 in c:\\users\\owent\\appdata\\local\\programs\\python\\python310\\lib\\site-packages (from aiohttp<4.0.0,>=3.8.3->langchain->-r requirements.txt (line 2)) (0.2.1)\n",
      "Requirement already satisfied: yarl<2.0,>=1.17.0 in c:\\users\\owent\\appdata\\local\\programs\\python\\python310\\lib\\site-packages (from aiohttp<4.0.0,>=3.8.3->langchain->-r requirements.txt (line 2)) (1.18.3)\n",
      "Requirement already satisfied: anyio<5,>=3.5.0 in c:\\users\\owent\\appdata\\local\\programs\\python\\python310\\lib\\site-packages (from anthropic<1,>=0.51.0->langchain-anthropic->-r requirements.txt (line 3)) (4.4.0)\n",
      "Requirement already satisfied: distro<2,>=1.7.0 in c:\\users\\owent\\appdata\\local\\programs\\python\\python310\\lib\\site-packages (from anthropic<1,>=0.51.0->langchain-anthropic->-r requirements.txt (line 3)) (1.9.0)\n",
      "Requirement already satisfied: httpx<1,>=0.25.0 in c:\\users\\owent\\appdata\\local\\programs\\python\\python310\\lib\\site-packages (from anthropic<1,>=0.51.0->langchain-anthropic->-r requirements.txt (line 3)) (0.27.2)\n",
      "Requirement already satisfied: jiter<1,>=0.4.0 in c:\\users\\owent\\appdata\\local\\programs\\python\\python310\\lib\\site-packages (from anthropic<1,>=0.51.0->langchain-anthropic->-r requirements.txt (line 3)) (0.5.0)\n",
      "Requirement already satisfied: sniffio in c:\\users\\owent\\appdata\\local\\programs\\python\\python310\\lib\\site-packages (from anthropic<1,>=0.51.0->langchain-anthropic->-r requirements.txt (line 3)) (1.3.1)\n",
      "Requirement already satisfied: jsonpatch<2.0,>=1.33 in c:\\users\\owent\\appdata\\local\\programs\\python\\python310\\lib\\site-packages (from langchain-core<1.0.0,>=0.3.35->langchain->-r requirements.txt (line 2)) (1.33)\n",
      "Requirement already satisfied: packaging<25,>=23.2 in c:\\users\\owent\\appdata\\local\\programs\\python\\python310\\lib\\site-packages (from langchain-core<1.0.0,>=0.3.35->langchain->-r requirements.txt (line 2)) (24.2)\n",
      "Requirement already satisfied: ormsgpack<2.0.0,>=1.8.0 in c:\\users\\owent\\appdata\\local\\programs\\python\\python310\\lib\\site-packages (from langgraph-checkpoint<3.0.0,>=2.0.26->langgraph->-r requirements.txt (line 4)) (1.9.1)\n",
      "Requirement already satisfied: orjson>=3.10.1 in c:\\users\\owent\\appdata\\local\\programs\\python\\python310\\lib\\site-packages (from langgraph-sdk>=0.1.42->langgraph->-r requirements.txt (line 4)) (3.10.15)\n",
      "Requirement already satisfied: requests-toolbelt<2.0.0,>=1.0.0 in c:\\users\\owent\\appdata\\local\\programs\\python\\python310\\lib\\site-packages (from langsmith<0.4,>=0.1.17->langchain->-r requirements.txt (line 2)) (1.0.0)\n",
      "Requirement already satisfied: zstandard<0.24.0,>=0.23.0 in c:\\users\\owent\\appdata\\local\\programs\\python\\python310\\lib\\site-packages (from langsmith<0.4,>=0.1.17->langchain->-r requirements.txt (line 2)) (0.23.0)\n",
      "Requirement already satisfied: annotated-types>=0.6.0 in c:\\users\\owent\\appdata\\local\\programs\\python\\python310\\lib\\site-packages (from pydantic<3.0.0,>=2.7.4->langchain->-r requirements.txt (line 2)) (0.7.0)\n",
      "Requirement already satisfied: pydantic-core==2.23.3 in c:\\users\\owent\\appdata\\local\\programs\\python\\python310\\lib\\site-packages (from pydantic<3.0.0,>=2.7.4->langchain->-r requirements.txt (line 2)) (2.23.3)\n",
      "Requirement already satisfied: charset-normalizer<4,>=2 in c:\\users\\owent\\appdata\\local\\programs\\python\\python310\\lib\\site-packages (from requests<3,>=2->langchain->-r requirements.txt (line 2)) (2.1.1)\n",
      "Requirement already satisfied: idna<4,>=2.5 in c:\\users\\owent\\appdata\\local\\programs\\python\\python310\\lib\\site-packages (from requests<3,>=2->langchain->-r requirements.txt (line 2)) (3.4)\n",
      "Requirement already satisfied: urllib3<3,>=1.21.1 in c:\\users\\owent\\appdata\\local\\programs\\python\\python310\\lib\\site-packages (from requests<3,>=2->langchain->-r requirements.txt (line 2)) (1.26.13)\n",
      "Requirement already satisfied: certifi>=2017.4.17 in c:\\users\\owent\\appdata\\local\\programs\\python\\python310\\lib\\site-packages (from requests<3,>=2->langchain->-r requirements.txt (line 2)) (2022.12.7)\n",
      "Requirement already satisfied: greenlet!=0.4.17 in c:\\users\\owent\\appdata\\local\\programs\\python\\python310\\lib\\site-packages (from SQLAlchemy<3,>=1.4->langchain->-r requirements.txt (line 2)) (3.1.1)\n",
      "Requirement already satisfied: exceptiongroup>=1.0.2 in c:\\users\\owent\\appdata\\roaming\\python\\python310\\site-packages (from anyio<5,>=3.5.0->anthropic<1,>=0.51.0->langchain-anthropic->-r requirements.txt (line 3)) (1.2.1)\n",
      "Requirement already satisfied: httpcore==1.* in c:\\users\\owent\\appdata\\local\\programs\\python\\python310\\lib\\site-packages (from httpx<1,>=0.25.0->anthropic<1,>=0.51.0->langchain-anthropic->-r requirements.txt (line 3)) (1.0.5)\n",
      "Requirement already satisfied: h11<0.15,>=0.13 in c:\\users\\owent\\appdata\\local\\programs\\python\\python310\\lib\\site-packages (from httpcore==1.*->httpx<1,>=0.25.0->anthropic<1,>=0.51.0->langchain-anthropic->-r requirements.txt (line 3)) (0.14.0)\n",
      "Requirement already satisfied: jsonpointer>=1.9 in c:\\users\\owent\\appdata\\local\\programs\\python\\python310\\lib\\site-packages (from jsonpatch<2.0,>=1.33->langchain-core<1.0.0,>=0.3.35->langchain->-r requirements.txt (line 2)) (3.0.0)\n",
      "Note: you may need to restart the kernel to use updated packages.\n"
     ]
    },
    {
     "name": "stderr",
     "output_type": "stream",
     "text": [
      "\n",
      "[notice] A new release of pip is available: 24.3.1 -> 25.1.1\n",
      "[notice] To update, run: python.exe -m pip install --upgrade pip\n"
     ]
    }
   ],
   "source": [
    "%pip install -r requirements.txt"
   ]
  },
  {
   "cell_type": "code",
   "execution_count": 6,
   "id": "2c0d4053",
   "metadata": {},
   "outputs": [],
   "source": [
    "from models import get_anthropic_model\n",
    "\n",
    "model = get_anthropic_model()"
   ]
  }
 ],
 "metadata": {
  "kernelspec": {
   "display_name": "Python 3",
   "language": "python",
   "name": "python3"
  },
  "language_info": {
   "codemirror_mode": {
    "name": "ipython",
    "version": 3
   },
   "file_extension": ".py",
   "mimetype": "text/x-python",
   "name": "python",
   "nbconvert_exporter": "python",
   "pygments_lexer": "ipython3",
   "version": "3.10.6"
  }
 },
 "nbformat": 4,
 "nbformat_minor": 5
}
