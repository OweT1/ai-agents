{
 "cells": [
  {
   "cell_type": "code",
   "execution_count": 1,
   "id": "3ca71bd4",
   "metadata": {},
   "outputs": [
    {
     "name": "stdout",
     "output_type": "stream",
     "text": [
      "Note: you may need to restart the kernel to use updated packages.\n"
     ]
    },
    {
     "name": "stderr",
     "output_type": "stream",
     "text": [
      "\n",
      "[notice] A new release of pip is available: 24.3.1 -> 25.1.1\n",
      "[notice] To update, run: python.exe -m pip install --upgrade pip\n"
     ]
    }
   ],
   "source": [
    "%pip -q install -r requirements.txt"
   ]
  },
  {
   "cell_type": "code",
   "execution_count": 2,
   "id": "2c0d4053",
   "metadata": {},
   "outputs": [],
   "source": [
    "from utils.utils import get_mistral_model\n",
    "\n",
    "model = get_mistral_model()"
   ]
  },
  {
   "cell_type": "code",
   "execution_count": 3,
   "id": "db60fa68",
   "metadata": {},
   "outputs": [],
   "source": [
    "# # Testing API key - Should work and generate output\n",
    "\n",
    "# from langgraph.prebuilt import create_react_agent\n",
    "\n",
    "# def add(a, b):\n",
    "#   \"\"\"Adds two numbers\"\"\"\n",
    "#   return a + b\n",
    "\n",
    "# def multiply(a, b):\n",
    "#   \"\"\"Multiplies two numbers\"\"\"\n",
    "#   return a * b\n",
    "\n",
    "# math_agent = create_react_agent(\n",
    "#   model=model,\n",
    "#   tools=[add, multiply],\n",
    "#   name=\"math_expert\",\n",
    "#   prompt=\"You are a math expert. Always use one tool at a time.\"\n",
    "# )\n",
    "\n",
    "# math_agent.invoke(\n",
    "#   {\"messages\": [{\"role\": \"user\", \"content\": \"What is 3 + 4?\"}] \n",
    "# })"
   ]
  },
  {
   "cell_type": "markdown",
   "id": "43ba77a6",
   "metadata": {},
   "source": [
    "# Possible Use case 1: Resume and Job matching\n",
    "Based on the details of a resume and the description of a job, we will try to use agents to determine whether the resume and the job description are a match through a Multi-Agent Supervisor architecture.\n",
    "\n",
    "A few things to consider:\n",
    "- Candidate's profile align with company's industry/values\n",
    "- Candidate's skills align with job's preferred qualifications\n",
    "- Candidate's projects and experiences align with job's responsibilities"
   ]
  },
  {
   "cell_type": "code",
   "execution_count": 4,
   "id": "471e2a41",
   "metadata": {},
   "outputs": [],
   "source": [
    "from utils.agents import get_custom_agent\n",
    "\n",
    "candidate_details = \"x\"\n",
    "company = \"x\"\n",
    "job_details = \"x\"\n",
    "\n",
    "list_of_worker_agents = [\"experience\", \"profile\", \"skills\"]\n",
    "\n",
    "worker_agents = [\n",
    "  get_custom_agent(\n",
    "    model=model,\n",
    "    agent_type=x,\n",
    "    candidate_details=candidate_details,\n",
    "    company=company,\n",
    "    job_details=job_details\n",
    "  ) for x in list_of_worker_agents\n",
    "]\n",
    "\n",
    "supervisor_agent = get_custom_agent(\n",
    "  model=model,\n",
    "  agent_type=\"supervisor\",\n",
    "  candidate_details=candidate_details,\n",
    "  company=company,\n",
    "  job_details=job_details,\n",
    "  agents=worker_agents\n",
    ")"
   ]
  },
  {
   "cell_type": "code",
   "execution_count": 5,
   "id": "48df2739",
   "metadata": {},
   "outputs": [
    {
     "data": {
      "image/png": "[encoded data removed]",
      "text/plain": [
       "<langgraph.graph.state.CompiledStateGraph object at 0x000001B6D01DFDC0>"
      ]
     },
     "execution_count": 5,
     "metadata": {},
     "output_type": "execute_result"
    }
   ],
   "source": [
    "app = supervisor_agent.compile()\n",
    "\n",
    "app"
   ]
  },
  {
   "cell_type": "code",
   "execution_count": 6,
   "id": "2289ba8c",
   "metadata": {},
   "outputs": [
    {
     "name": "stdout",
     "output_type": "stream",
     "text": [
      "('OWEN TAN KENG LENG\\n'\n",
      " 'Email: owen.tan@u.nus.edu    Mobile: (+65)92472807\\n'\n",
      " 'Linkedin: www.linkedin.com/in/owentankengleng\\tGithub: '\n",
      " 'https://github.com/OweT1 \\n'\n",
      " '\\n'\n",
      " 'education\\n'\n",
      " 'National University of Singapore\\tAug 2022 - May 2026\\n'\n",
      " 'Bachelor of Science in Data Science and Analytics (Honours) with 2nd Major '\n",
      " 'in Computer Science \\n'\n",
      " '2nd Major in Computer Science\\n'\n",
      " 'Grade Point Average: 4.82/5.00 (Expected Honours with Highest Distinction)\\n'\n",
      " \"Attained Dean's List for AY2023/2024 Semester 1 & Semester 2 and Top Student \"\n",
      " 'for Data Structures and Algorithms\\n'\n",
      " 'Relevant Coursework: Data Science in Practice, Machine Learning, Information '\n",
      " 'Retrieval\\n'\n",
      " '\\n'\n",
      " 'work experience\\n'\n",
      " 'DBS Bank, Data Science Intern\\tMay 2025 - Aug 2025\\n'\n",
      " '\\n'\n",
      " 'Shopee, Business Analytics Intern\\tJan 2025 - Apr 2025\\n'\n",
      " 'Developed a robust scoring system for detection of similar product names '\n",
      " 'using Natural Language Processing techniques\\n'\n",
      " 'Engineered and optimised complex SQL queries to answer business questions '\n",
      " 'using window functions and CTEs\\n'\n",
      " 'Constructed and monitored 2 Data Dashboards containing key metrics required '\n",
      " 'for various projects in Regional Operations department\\n'\n",
      " '\\n'\n",
      " 'SATS Ltd, Data Scientist Intern\\tAug 2024 - Dec 2024\\n'\n",
      " 'Employed DeBERTa LLM on Hugging Face to categorise text into 10 different '\n",
      " 'categories, utilising MLflow to log metrics during model fine-tuning process '\n",
      " 'and achieving 85% accuracy\\n'\n",
      " 'Deployed an end-to-end workflow and implemented Genetic Algorithm in Python '\n",
      " 'to automate optimisation of baggage allocation, reducing planning time spent '\n",
      " 'by over 50%\\n'\n",
      " 'Digitalised storage of important documents by utilising Microsoft Azure '\n",
      " 'services, cutting paper usage to 0% and cost by over 20%\\n'\n",
      " '\\n'\n",
      " 'project experience\\n'\n",
      " 'ESG Analysis Platform for Banking Sector – JavaScript, React, Express, JWT, '\n",
      " 'Docker\\tJan 2025 - Apr 2025\\n'\n",
      " 'Developed a scalable ESG platform using React, Express, and JWT, enhancing '\n",
      " 'data-driven decision-making for sustainable banking practices\\n'\n",
      " 'Designed and deployed MongoDB and PostgreSQL databases using Docker '\n",
      " 'containers for efficient data management\\n'\n",
      " 'Implemented a recommendation system using collaborative filtering, improving '\n",
      " 'user engagement\\n'\n",
      " 'Built secure RESTful APIs with Axios for seamless data exchange between '\n",
      " 'front-end and backend services\\n'\n",
      " '\\n'\n",
      " 'Shopee Refund Policy Question-Answering – Python, Selenium, Ollama, '\n",
      " 'Langchain\\tDec 2024 - Jan 2025\\n'\n",
      " 'Made use of Ollama to download and prepare Mistral Large Language Model '\n",
      " '(LLM) for Question-Answering purposes\\n'\n",
      " 'Utilised Selenium to scrap Shopee’s Refund Policy off website to be input as '\n",
      " 'model’s context when answering question\\n'\n",
      " 'Implemented Retrieval-Augmented Generation (RAG) to feed most relevant '\n",
      " 'chunks of information into LLM for better responses\\n'\n",
      " '\\n'\n",
      " 'PROFESSIONAL certifications\\n'\n",
      " 'Google: Google Cloud Certified Professional Machine Learning Engineer\\n'\n",
      " 'AI Singapore: Student Outreach Programme Level 3 (Highest Achievement)\\n'\n",
      " 'Databricks: Data Engineering with Databricks\\n'\n",
      " 'DataCamp: Containerization and Virtualization with Docker and Kubernetes '\n",
      " 'Skill Track\\n'\n",
      " '\\n'\n",
      " 'technical skills\\n'\n",
      " 'Cloud Computing Platforms: Google Cloud Platform, Microsoft Azure, '\n",
      " 'Databricks\\n'\n",
      " 'Programming Languages: Python, Java, JavaScript, SQL, R\\n'\n",
      " 'Data Visualisation Software: Power BI, Tableau\\n'\n",
      " 'Libraries & Tools: LangChain, Transformers, Hugging Face, re, SpaCy, NLTK, '\n",
      " 'Scikit-learn, Tensorflow, Keras, PyTorch, Pymoo, NumPy, Pandas\\n'\n",
      " 'Containerisation & Orchestration: Docker, Kubernetes\\n'\n",
      " '\\n'\n",
      " 'leadership experience\\n'\n",
      " 'Marketing Head, NUS Science Welfare Subcommittee\\tSep 2023 - Sep 2024')\n"
     ]
    }
   ],
   "source": [
    "from utils.utils import parse_docx\n",
    "import pprint\n",
    "\n",
    "pprint.pp(parse_docx('data/candidates/OwenTanKengLeng_Resume.docx'))"
   ]
  },
  {
   "cell_type": "code",
   "execution_count": 7,
   "id": "62410598",
   "metadata": {},
   "outputs": [],
   "source": [
    "# message_history = [\n",
    "#   {\n",
    "#     \"role\": \"user\",\n",
    "#     \"content\": \"Run for the following profile\"\n",
    "#   }\n",
    "# ]\n",
    "\n",
    "# result = app.invoke({\n",
    "#   \"messages\": message_history\n",
    "# })"
   ]
  }
 ],
 "metadata": {
  "kernelspec": {
   "display_name": "Python 3",
   "language": "python",
   "name": "python3"
  },
  "language_info": {
   "codemirror_mode": {
    "name": "ipython",
    "version": 3
   },
   "file_extension": ".py",
   "mimetype": "text/x-python",
   "name": "python",
   "nbconvert_exporter": "python",
   "pygments_lexer": "ipython3",
   "version": "3.10.6"
  }
 },
 "nbformat": 4,
 "nbformat_minor": 5
}
